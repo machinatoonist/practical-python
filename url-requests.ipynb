{
 "cells": [
  {
   "cell_type": "code",
   "execution_count": 1,
   "id": "79400781-0f31-4521-a560-49d90b3d2e2c",
   "metadata": {},
   "outputs": [],
   "source": [
    "import urllib.request"
   ]
  },
  {
   "cell_type": "code",
   "execution_count": 8,
   "id": "7a08b944-63ca-46c0-91ee-6c9e22e2a12a",
   "metadata": {},
   "outputs": [],
   "source": [
    "# u = urllib.request.urlopen('http://ctabustracker.com/bustime/map/getStopPredictions.jsp?stop=14791&route=22')\n",
    "u = urllib.request.urlopen('http://www.ctabustracker.com/bustime/api/v2/getpredictions?key=89dj2he89d8j3j3ksjhdue93j&rt=20&stpid=456')"
   ]
  },
  {
   "cell_type": "code",
   "execution_count": 9,
   "id": "a88c6710-5b83-4f06-be75-c06dfec96dcc",
   "metadata": {},
   "outputs": [],
   "source": [
    "from xml.etree.ElementTree import parse"
   ]
  },
  {
   "cell_type": "code",
   "execution_count": 10,
   "id": "b5770fff-c1b9-4348-9371-af6e8474524e",
   "metadata": {},
   "outputs": [],
   "source": [
    "doc = parse(u)"
   ]
  },
  {
   "cell_type": "code",
   "execution_count": 11,
   "id": "7f15ef1d-c437-4e8f-9c06-2380f48eb6ad",
   "metadata": {},
   "outputs": [],
   "source": [
    "for pt in doc.findall('.//pt'):\n",
    "    print(pt.text)"
   ]
  },
  {
   "cell_type": "code",
   "execution_count": 12,
   "id": "03d4865e-b05a-4111-aa09-7145296dcef3",
   "metadata": {},
   "outputs": [
    {
     "name": "stdout",
     "output_type": "stream",
     "text": [
      "<xml.etree.ElementTree.ElementTree object at 0x000002002FDFCFA0>\n"
     ]
    }
   ],
   "source": [
    "print(doc)"
   ]
  },
  {
   "cell_type": "markdown",
   "id": "cc9df8dd-4d33-4046-955d-254295e7efb9",
   "metadata": {},
   "source": [
    "https://www.transitchicago.com/assets/1/6/cta_Bus_Tracker_API_Developer_Guide_and_Documentation_20160929.pdf"
   ]
  },
  {
   "cell_type": "code",
   "execution_count": null,
   "id": "ca5f8697-08a7-4cb0-ad5e-3694bf7bf10a",
   "metadata": {},
   "outputs": [],
   "source": [
    "doc.findall()"
   ]
  }
 ],
 "metadata": {
  "kernelspec": {
   "display_name": "Python 3 (ipykernel)",
   "language": "python",
   "name": "python3"
  },
  "language_info": {
   "codemirror_mode": {
    "name": "ipython",
    "version": 3
   },
   "file_extension": ".py",
   "mimetype": "text/x-python",
   "name": "python",
   "nbconvert_exporter": "python",
   "pygments_lexer": "ipython3",
   "version": "3.10.6"
  }
 },
 "nbformat": 4,
 "nbformat_minor": 5
}
